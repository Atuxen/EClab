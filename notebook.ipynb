{
 "cells": [
  {
   "cell_type": "markdown",
   "metadata": {},
   "source": [
    "# Setup: Run each cell with command + enter. "
   ]
  },
  {
   "cell_type": "code",
   "execution_count": null,
   "metadata": {},
   "outputs": [],
   "source": [
    "# Clone the repository\n",
    "!git clone https://github.com/Atuxen/EClab.git\n",
    "%cd EClab"
   ]
  },
  {
   "cell_type": "code",
   "execution_count": null,
   "metadata": {},
   "outputs": [],
   "source": [
    "# Install dependencies\n",
    "!pip install ."
   ]
  },
  {
   "cell_type": "code",
   "execution_count": 247,
   "metadata": {},
   "outputs": [
    {
     "name": "stderr",
     "output_type": "stream",
     "text": [
      "[autoreload of src.eclabvisual.linear_and_cyclic_voltammetry failed: Traceback (most recent call last):\n",
      "  File \"/Users/achtu/Library/Python/3.9/lib/python/site-packages/IPython/extensions/autoreload.py\", line 276, in check\n",
      "    superreload(m, reload, self.old_objects)\n",
      "  File \"/Users/achtu/Library/Python/3.9/lib/python/site-packages/IPython/extensions/autoreload.py\", line 475, in superreload\n",
      "    module = reload(module)\n",
      "  File \"/Library/Developer/CommandLineTools/Library/Frameworks/Python3.framework/Versions/3.9/lib/python3.9/importlib/__init__.py\", line 169, in reload\n",
      "    _bootstrap._exec(spec, module)\n",
      "  File \"<frozen importlib._bootstrap>\", line 613, in _exec\n",
      "  File \"<frozen importlib._bootstrap_external>\", line 850, in exec_module\n",
      "  File \"<frozen importlib._bootstrap>\", line 228, in _call_with_frames_removed\n",
      "  File \"/Users/achtu/DTU/EClab/src/eclabvisual/linear_and_cyclic_voltammetry.py\", line 5, in <module>\n",
      "    from eclabvisual.utils import Grapher\n",
      "ModuleNotFoundError: No module named 'eclabvisual'\n",
      "]\n"
     ]
    },
    {
     "name": "stdout",
     "output_type": "stream",
     "text": [
      "The autoreload extension is already loaded. To reload it, use:\n",
      "  %reload_ext autoreload\n"
     ]
    },
    {
     "ename": "ImportError",
     "evalue": "cannot import name 'VoltammetryGrapher' from 'src.eclabvisual.linear_and_cyclic_voltammetry' (/Users/achtu/DTU/EClab/src/eclabvisual/linear_and_cyclic_voltammetry.py)",
     "output_type": "error",
     "traceback": [
      "\u001b[0;31m---------------------------------------------------------------------------\u001b[0m",
      "\u001b[0;31mImportError\u001b[0m                               Traceback (most recent call last)",
      "Cell \u001b[0;32mIn[247], line 4\u001b[0m\n\u001b[1;32m      1\u001b[0m get_ipython()\u001b[38;5;241m.\u001b[39mrun_line_magic(\u001b[38;5;124m'\u001b[39m\u001b[38;5;124mload_ext\u001b[39m\u001b[38;5;124m'\u001b[39m, \u001b[38;5;124m'\u001b[39m\u001b[38;5;124mautoreload\u001b[39m\u001b[38;5;124m'\u001b[39m)\n\u001b[1;32m      2\u001b[0m get_ipython()\u001b[38;5;241m.\u001b[39mrun_line_magic(\u001b[38;5;124m'\u001b[39m\u001b[38;5;124mautoreload\u001b[39m\u001b[38;5;124m'\u001b[39m, \u001b[38;5;124m'\u001b[39m\u001b[38;5;124m2\u001b[39m\u001b[38;5;124m'\u001b[39m)\n\u001b[0;32m----> 4\u001b[0m \u001b[38;5;28;01mfrom\u001b[39;00m \u001b[38;5;21;01msrc\u001b[39;00m\u001b[38;5;21;01m.\u001b[39;00m\u001b[38;5;21;01meclabvisual\u001b[39;00m\u001b[38;5;21;01m.\u001b[39;00m\u001b[38;5;21;01mlinear_and_cyclic_voltammetry\u001b[39;00m \u001b[38;5;28;01mimport\u001b[39;00m VoltammetryGrapher\n\u001b[1;32m      5\u001b[0m \u001b[38;5;28;01mfrom\u001b[39;00m \u001b[38;5;21;01msrc\u001b[39;00m\u001b[38;5;21;01m.\u001b[39;00m\u001b[38;5;21;01meclabvisual\u001b[39;00m\u001b[38;5;21;01m.\u001b[39;00m\u001b[38;5;21;01mcycling\u001b[39;00m \u001b[38;5;28;01mimport\u001b[39;00m CyclingGrapher\n\u001b[1;32m      6\u001b[0m \u001b[38;5;28;01mfrom\u001b[39;00m \u001b[38;5;21;01msrc\u001b[39;00m\u001b[38;5;21;01m.\u001b[39;00m\u001b[38;5;21;01meclabvisual\u001b[39;00m\u001b[38;5;21;01m.\u001b[39;00m\u001b[38;5;21;01mpeis\u001b[39;00m \u001b[38;5;28;01mimport\u001b[39;00m PEISGrapher\n",
      "\u001b[0;31mImportError\u001b[0m: cannot import name 'VoltammetryGrapher' from 'src.eclabvisual.linear_and_cyclic_voltammetry' (/Users/achtu/DTU/EClab/src/eclabvisual/linear_and_cyclic_voltammetry.py)"
     ]
    }
   ],
   "source": [
    "%load_ext autoreload\n",
    "%autoreload 2\n",
    "\n",
    "from src.eclabvisual.linear_and_cyclic_voltammetry import VoltammetryGrapher\n",
    "from src.eclabvisual.cycling import CyclingGrapher\n",
    "from src.eclabvisual.peis import PEISGrapher\n",
    "from src.eclabvisual.utils import DataDictionary\n"
   ]
  },
  {
   "cell_type": "code",
   "execution_count": null,
   "metadata": {},
   "outputs": [],
   "source": [
    "Data = DataDictionary()\n",
    "\n",
    "VoltaGraph = VoltammetryGrapher(Data)\n",
    "GCPLGraph = CyclingGrapher(Data)\n",
    "PEISGraph = PEISGrapher(Data)"
   ]
  },
  {
   "cell_type": "markdown",
   "metadata": {},
   "source": [
    "# Linear Sweep Voltammetry (LSV) single sweep\n"
   ]
  },
  {
   "cell_type": "code",
   "execution_count": null,
   "metadata": {},
   "outputs": [],
   "source": [
    "Data.tabulate(Data.data_lsv)\n",
    "VoltaGraph.lsv_plot([0,7,], plot_title=\"Linear sweep voltammogram of ZnTFSI2+G4 solutions\", names = [\"1:4 ZnTFSI2 + G4\", \"1:5 ZnTFSI2 + G4\"])\n",
    "#for i in range(len(Data.data_lsv)):\n",
    "#    if i<19:\n",
    "#        print(f\"FILE no {i}\")\n",
    "#        VoltaGraph.lsv_plot([i])\n",
    "#"
   ]
  },
  {
   "cell_type": "code",
   "execution_count": 158,
   "metadata": {},
   "outputs": [
    {
     "name": "stdout",
     "output_type": "stream",
     "text": [
      "0.07633587786259542\n"
     ]
    }
   ],
   "source": [
    "print(PEISGraph.cell.cell_constant)"
   ]
  },
  {
   "cell_type": "markdown",
   "metadata": {},
   "source": [
    "# Linear Sweep Voltammetry (LSV) split sweep with threshold"
   ]
  },
  {
   "cell_type": "code",
   "execution_count": null,
   "metadata": {},
   "outputs": [],
   "source": [
    "VoltaGraph.lst_plot_split([[22,30]],threshold=1.5, plot_title=\"Linear Sweep Voltammogram of Aqueous ZnSO4 m1\")\n",
    "VoltaGraph.lst_plot_split([[28,26]],threshold=1.5, plot_title=\"Linear Sweep Voltammogram of Aqueous ZnSO4 m2\")\n",
    "VoltaGraph.lst_plot_split([[21,24]],threshold=1.5, plot_title=\"Linear Sweep Voltammogram of Aqueous ZnSO4 m3\")\n",
    "\n",
    "VoltaGraph.lst_plot_split([[22,30],[28,27],[21,24]],threshold=1.5, plot_title=\"Linear Sweep Voltammogram of Aqueous ZnSO4 solutions\")\n",
    "\n",
    "VoltaGraph.lst_plot_split([[22,30],[28,27],[21,24]],threshold=1.5, plot_title=\"Linear Sweep Voltammogram of Aqueous ZnSO4 solutions\", names = [\"Aqueous ZnSO4 m1\",\"Aqueous ZnSO4 m2\",\"Aqueous ZnSO4 m3\"])"
   ]
  },
  {
   "cell_type": "markdown",
   "metadata": {},
   "source": [
    "# Cyclic Voltammetry (CV)"
   ]
  },
  {
   "cell_type": "code",
   "execution_count": null,
   "metadata": {},
   "outputs": [],
   "source": [
    "Data.tabulate(Data.data_cv)\n",
    "VoltaGraph.cv_plot([0])\n",
    "VoltaGraph.cv_plot([1])"
   ]
  },
  {
   "cell_type": "markdown",
   "metadata": {},
   "source": [
    "# Potentiostatic Electrochemical Impedance Spectroscopy (PEIS)"
   ]
  },
  {
   "cell_type": "code",
   "execution_count": null,
   "metadata": {},
   "outputs": [],
   "source": [
    "Data.tabulate(Data.data_peis)\n",
    "\n",
    "for i in range(len(Data.data_peis)):\n",
    "    print(f\"FILE NUMBER: {i}\")\n",
    "    PEISGraph.nyquist_plot([i])"
   ]
  },
  {
   "cell_type": "code",
   "execution_count": null,
   "metadata": {},
   "outputs": [],
   "source": [
    "PEISGraph.nyquist_plot([7,8], plot_title=\"Nyquist plot of Aqueous ZnSO4\", names = [\"Aqueous ZnSO4 m3 before cylcling\",\"Aqueous ZnSO4 m1 before cycling\"])\n",
    "PEISGraph.nyquist_plot([3,8], plot_title=\"Nyquist plot of Aqueous ZnSO4\", names = [\"Aqueous ZnSO4 m3 before cylcling\",\"Aqueous ZnSO4 m1 before cycling\"])\n",
    "\n",
    "\n",
    "PEISGraph.nyquist_plot([8,3, 7], plot_title=\"Nyquist plot of Aqueous ZnSO4 (Interfacial phenonema)\", names=[\"Aqueous ZnSO4 m1 (before cycling)\", \"Aqueous ZnSO4 m1 (after cycling)\",\"Aqueous ZnSO4 m3 (before cycling)\"])\n",
    "PEISGraph.nyquist_plot([10,11, 2], plot_title=\"Nyquist plot of ZnTFSI2 + G4 solutions (Ionic conductivity)\", names=[\"ZnTFSI2+G4 1:4 before cycling\",\"ZnTFSI2+G4 1:4 after cycling\",\"(ZnTFSI2+G4 1:4) + PEO 40:60\"])\n",
    "\n",
    "PEISGraph.nyquist_plot([0, 1, 2], plot_title=\"Nyquist plot of ZnTFSI2 + G4 solutions (Interfacial phenonema)\", names = [\"Zn | Steel ZnTFSI2+G4 1:4 after cycling\", \"Zn | Steel ZnTFSI2+G4 1:5 after cycling\",\"Zn | Steel (ZnTFSI2+G4 1:4) + PEO 40:60\"])"
   ]
  },
  {
   "cell_type": "code",
   "execution_count": null,
   "metadata": {},
   "outputs": [],
   "source": [
    "\n",
    "PEISGraph.bode_plots([8])"
   ]
  },
  {
   "cell_type": "code",
   "execution_count": null,
   "metadata": {},
   "outputs": [],
   "source": [
    "%load_ext autoreload\n",
    "%autoreload 2\n",
    "\n",
    "from src.eclabvisual.linear_and_cyclic_voltammetry import VoltammetryGrapher\n",
    "from src.eclabvisual.cycling import CyclingGrapher\n",
    "from src.eclabvisual.peis import PEISGrapher\n",
    "from src.eclabvisual.utils import DataDictionary\n"
   ]
  },
  {
   "cell_type": "markdown",
   "metadata": {},
   "source": [
    "# Galvanostatic Cycling with Potential Limit (GCPL)\n",
    "### Galvanostatic cycling plot"
   ]
  },
  {
   "cell_type": "code",
   "execution_count": null,
   "metadata": {},
   "outputs": [],
   "source": [
    "Data.tabulate(Data.data_gcpl)"
   ]
  },
  {
   "cell_type": "code",
   "execution_count": null,
   "metadata": {},
   "outputs": [],
   "source": [
    "for i in range(len(Data.data_gcpl)):\n",
    "    print(f\"FILE no {i}\")\n",
    "    GCPLGraph.gcpl_plot([i])"
   ]
  },
  {
   "cell_type": "code",
   "execution_count": null,
   "metadata": {},
   "outputs": [],
   "source": [
    "#GCPLGraph.gcpl_plot([27], plot_title=\"Galvanostatic cycling of Zn | Zn  aqueous ZnSO4 m3 cell 1\")\n",
    "\n",
    "GCPLGraph.gcpl_plot([6], plot_title=\"Galvanostatic cycling of Zn | Steel, 1:4 ZnTFSI2 + G4\")\n",
    "GCPLGraph.gcpl_plot([25], plot_title=\"Galvanostatic cycling of Zn | Zn, 1:4 ZnTFSI2 + G4\")\n"
   ]
  },
  {
   "cell_type": "markdown",
   "metadata": {},
   "source": [
    "# Coloumbic Efficiency \n",
    "Coulombic Efficiency(%)= \n",
    "Charge Capacity/Discharge Capacity ×100"
   ]
  },
  {
   "cell_type": "code",
   "execution_count": null,
   "metadata": {},
   "outputs": [],
   "source": [
    "\n",
    "GCPLGraph.CEplot([6], plot_title=\"Coulombic efficiency 1:4 ZnTFSI2 + G4\", names=[\"Zn | Steel, 1:4 ZnTFSI2 + G4\"])\n",
    "GCPLGraph.cap_retention([6], plot_title=\"Capacity retention 1:4 ZnTFSI2 + G4\", names=[\"Zn | Steel, 1:4 ZnTFSI2 + G4\"])\n",
    "\n"
   ]
  },
  {
   "cell_type": "markdown",
   "metadata": {},
   "source": [
    "## Capacity retention (made from dicharge capacity)\n",
    "Cr(%) = Cap_n/Cap_initial x 100"
   ]
  },
  {
   "cell_type": "code",
   "execution_count": null,
   "metadata": {},
   "outputs": [],
   "source": [
    "GCPLGraph.cap_retention([6])"
   ]
  }
 ],
 "metadata": {
  "kernelspec": {
   "display_name": "Python 3",
   "language": "python",
   "name": "python3"
  },
  "language_info": {
   "codemirror_mode": {
    "name": "ipython",
    "version": 3
   },
   "file_extension": ".py",
   "mimetype": "text/x-python",
   "name": "python",
   "nbconvert_exporter": "python",
   "pygments_lexer": "ipython3",
   "version": "3.9.6"
  }
 },
 "nbformat": 4,
 "nbformat_minor": 2
}
